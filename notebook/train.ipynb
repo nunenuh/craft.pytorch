{
 "cells": [
  {
   "cell_type": "code",
   "execution_count": 1,
   "metadata": {},
   "outputs": [],
   "source": [
    "%load_ext autoreload\n",
    "%autoreload 2"
   ]
  },
  {
   "cell_type": "code",
   "execution_count": 6,
   "metadata": {},
   "outputs": [
    {
     "ename": "ImportError",
     "evalue": "cannot import name 'AttnLabelConverter'",
     "output_type": "error",
     "traceback": [
      "\u001b[0;31m---------------------------------------------------------------------------\u001b[0m",
      "\u001b[0;31mImportError\u001b[0m                               Traceback (most recent call last)",
      "\u001b[0;32m<ipython-input-6-fd4556497f01>\u001b[0m in \u001b[0;36m<module>\u001b[0;34m\u001b[0m\n\u001b[1;32m     21\u001b[0m \u001b[0;32mimport\u001b[0m \u001b[0mcraft\u001b[0m\u001b[0;34m.\u001b[0m\u001b[0mtransforms\u001b[0m \u001b[0;32mas\u001b[0m \u001b[0mNT\u001b[0m\u001b[0;34m\u001b[0m\u001b[0;34m\u001b[0m\u001b[0m\n\u001b[1;32m     22\u001b[0m \u001b[0;31m# from craft.datasets import LMDBDataset, BalanceDatasetConcatenator\u001b[0m\u001b[0;34m\u001b[0m\u001b[0;34m\u001b[0m\u001b[0;34m\u001b[0m\u001b[0m\n\u001b[0;32m---> 23\u001b[0;31m \u001b[0;32mfrom\u001b[0m \u001b[0mcraft\u001b[0m\u001b[0;34m.\u001b[0m\u001b[0mutils\u001b[0m \u001b[0;32mimport\u001b[0m \u001b[0mAttnLabelConverter\u001b[0m\u001b[0;34m\u001b[0m\u001b[0;34m\u001b[0m\u001b[0m\n\u001b[0m",
      "\u001b[0;31mImportError\u001b[0m: cannot import name 'AttnLabelConverter'"
     ]
    }
   ],
   "source": [
    "import os\n",
    "import string\n",
    "import numpy as np\n",
    "from pathlib import Path\n",
    "import matplotlib.pyplot as plt\n",
    "\n",
    "from typing import * \n",
    "\n",
    "\n",
    "import torch\n",
    "import torch.nn as nn\n",
    "import torch.optim as optim\n",
    "from torch.utils.data import Dataset, ConcatDataset, Subset, DataLoader\n",
    "\n",
    "import torchvision.transforms as VT\n",
    "\n",
    "\n",
    "from craft.datasets import custom\n",
    "# from craft.models import crnn_v1\n",
    "\n",
    "import craft.transforms as NT\n",
    "# from craft.datasets import LMDBDataset, BalanceDatasetConcatenator\n",
    "from craft.utils import AttnLabelConverter"
   ]
  },
  {
   "cell_type": "code",
   "execution_count": 3,
   "metadata": {},
   "outputs": [],
   "source": [
    "import pytorch_lightning as pl\n",
    "from pytorch_lightning import loggers as pl_loggers\n",
    "from pytorch_lightning.metrics import Accuracy\n",
    "\n",
    "class OCRTaks(pl.LightningModule):\n",
    "    def __init__(self, model, optimizer, criterion, converter, grad_clip=5.0):\n",
    "        super().__init__()\n",
    "        self.model = model\n",
    "        self.model = self.model.to(self.device)\n",
    "        \n",
    "        self.optimizer = optimizer\n",
    "        self.criterion = criterion\n",
    "        self.converter = converter\n",
    "        self.grad_clip = grad_clip\n",
    "    \n",
    "    def forward(self, imgs, text):\n",
    "        output = self.model(imgs, texts)\n",
    "        return output\n",
    "    \n",
    "\n",
    "    def backward(self, trainer, loss, optimizer, optimizer_idx):\n",
    "        loss.backward()\n",
    "        nn.utils.clip_grad_norm_(self.model.parameters(), self.grad_clip)\n",
    "   \n",
    "    def shared_step(self, batch, batch_idx):\n",
    "        images, texts = batch\n",
    "        images = images.to(self.device)\n",
    "        \n",
    "        texts_encoded, texts_length = self.converter.encode(texts)\n",
    "        texts_encoded = texts_encoded.to(self.device)\n",
    "        texts_length = texts_encoded.to(self.device)\n",
    "        \n",
    "        print(f'texts_encoded.shape: {texts_encoded.shape}')\n",
    "        \n",
    "        preds = self.model(images, texts_encoded[:, :-1])\n",
    "        targets = texts_encoded[:, 1:]\n",
    "        \n",
    "        loss = self.criterion(preds.view(-1, preds.shape[-1]), targets.contiguous().view(-1))\n",
    "        \n",
    "        return loss\n",
    "        \n",
    "        \n",
    "    def training_step(self, batch, batch_idx):\n",
    "        loss = self.shared_step(batch, batch_idx)\n",
    "#         result = pl.TrainResult(loss)\n",
    "#         result.log_dict({'trn_loss': loss})\n",
    "        self.log('trn_loss', loss, on_step=True, on_epoch=True, prog_bar=True, logger=True)\n",
    "        \n",
    "        return result\n",
    "    \n",
    "    def validation_step(self, batch, batch_idx):\n",
    "        loss = self.shared_step(batch, batch_idx)\n",
    "#         result = pl.EvalResult(checkpoint_on=loss)\n",
    "#         result.log_dict({'val_loss': loss})\n",
    "        self.log('val_loss', loss, on_step=True, on_epoch=True, prog_bar=True, logger=True)\n",
    "        \n",
    "        return result\n",
    "    \n",
    "    def configure_optimizers(self):\n",
    "        return self.optimizer\n",
    "    "
   ]
  },
  {
   "cell_type": "code",
   "execution_count": 3,
   "metadata": {},
   "outputs": [
    {
     "name": "stderr",
     "output_type": "stream",
     "text": [
      "/opt/anaconda3/envs/dlearn/lib/python3.6/site-packages/torch/cuda/__init__.py:52: UserWarning: CUDA initialization: CUDA unknown error - this may be due to an incorrectly set up environment, e.g. changing env variable CUDA_VISIBLE_DEVICES after program start. Setting the available devices to be zero. (Triggered internally at  /opt/conda/conda-bld/pytorch_1607370120218/work/c10/cuda/CUDAFunctions.cpp:100.)\n",
      "  return torch._C._cuda_getDeviceCount() > 0\n"
     ]
    }
   ],
   "source": [
    "device = torch.device('cuda' if torch.cuda.is_available() else 'cpu')\n"
   ]
  },
  {
   "cell_type": "code",
   "execution_count": 4,
   "metadata": {},
   "outputs": [],
   "source": [
    "BATCH_SIZE = 4\n",
    "NUM_WORKERS = 4\n",
    "BATCH_MAX_LENGTH = 25\n",
    "CHARACTER = string.printable[:-6]\n",
    "IMG_SIZE = (32,100)\n",
    "BETA1 = 0.9\n",
    "BETA2 = 0.999\n",
    "LRATE = 1.0\n",
    "\n",
    "GRAD_CLIP = 5.0"
   ]
  },
  {
   "cell_type": "code",
   "execution_count": 5,
   "metadata": {},
   "outputs": [
    {
     "ename": "NameError",
     "evalue": "name 'NT' is not defined",
     "output_type": "error",
     "traceback": [
      "\u001b[0;31m---------------------------------------------------------------------------\u001b[0m",
      "\u001b[0;31mNameError\u001b[0m                                 Traceback (most recent call last)",
      "\u001b[0;32m<ipython-input-5-890b1e8b8a76>\u001b[0m in \u001b[0;36m<module>\u001b[0;34m\u001b[0m\n\u001b[1;32m      1\u001b[0m trn_transform = VT.Compose([\n\u001b[0;32m----> 2\u001b[0;31m     \u001b[0mNT\u001b[0m\u001b[0;34m.\u001b[0m\u001b[0mResizeRatioWithRightPad\u001b[0m\u001b[0;34m(\u001b[0m\u001b[0msize\u001b[0m\u001b[0;34m=\u001b[0m\u001b[0mIMG_SIZE\u001b[0m\u001b[0;34m)\u001b[0m\u001b[0;34m,\u001b[0m\u001b[0;34m\u001b[0m\u001b[0;34m\u001b[0m\u001b[0m\n\u001b[0m\u001b[1;32m      3\u001b[0m     \u001b[0mVT\u001b[0m\u001b[0;34m.\u001b[0m\u001b[0mToTensor\u001b[0m\u001b[0;34m(\u001b[0m\u001b[0;34m)\u001b[0m\u001b[0;34m,\u001b[0m\u001b[0;34m\u001b[0m\u001b[0;34m\u001b[0m\u001b[0m\n\u001b[1;32m      4\u001b[0m     \u001b[0mVT\u001b[0m\u001b[0;34m.\u001b[0m\u001b[0mNormalize\u001b[0m\u001b[0;34m(\u001b[0m\u001b[0mmean\u001b[0m\u001b[0;34m=\u001b[0m\u001b[0;34m(\u001b[0m\u001b[0;36m0.5\u001b[0m\u001b[0;34m)\u001b[0m\u001b[0;34m,\u001b[0m \u001b[0mstd\u001b[0m\u001b[0;34m=\u001b[0m\u001b[0;34m(\u001b[0m\u001b[0;36m0.5\u001b[0m\u001b[0;34m)\u001b[0m\u001b[0;34m)\u001b[0m\u001b[0;34m\u001b[0m\u001b[0;34m\u001b[0m\u001b[0m\n\u001b[1;32m      5\u001b[0m ])\n",
      "\u001b[0;31mNameError\u001b[0m: name 'NT' is not defined"
     ]
    }
   ],
   "source": [
    "trn_transform = VT.Compose([\n",
    "    NT.ResizeRatioWithRightPad(size=IMG_SIZE),\n",
    "    VT.ToTensor(),\n",
    "    VT.Normalize(mean=(0.5), std=(0.5))  \n",
    "])\n",
    "\n",
    "val_transform = VT.Compose([\n",
    "    NT.ResizeRatioWithRightPad(size=IMG_SIZE),\n",
    "    VT.ToTensor(),\n",
    "    VT.Normalize(mean=(0.5), std=(0.5))  \n",
    "])\n",
    "\n",
    "\n",
    "trn_path = '/workspace/serverfs/data/clova_deeptext/training'\n",
    "val_path = '/workspace/serverfs/data/clova_deeptext/validation'\n",
    "\n",
    "\n",
    "\n",
    "train_bdc = BalanceDatasetConcatenator(trn_path, dataset_class=LMDBDataset, \n",
    "                                       transform=trn_transform,\n",
    "                                       subdir=('ST', 'MJ'), usage_ratio=(0.5, 0.5),\n",
    "                                       im_size=IMG_SIZE, is_sensitive=True)\n",
    "trainset = train_bdc.get_dataset()\n",
    "\n",
    "\n",
    "valid_bdc = BalanceDatasetConcatenator(val_path, dataset_class=LMDBDataset, \n",
    "                                       transform=val_transform,\n",
    "                                       im_size=IMG_SIZE, is_sensitive=True)\n",
    "validset = valid_bdc.get_dataset()"
   ]
  },
  {
   "cell_type": "code",
   "execution_count": 7,
   "metadata": {},
   "outputs": [
    {
     "data": {
      "text/plain": [
       "(7221024, 6992)"
      ]
     },
     "execution_count": 7,
     "metadata": {},
     "output_type": "execute_result"
    }
   ],
   "source": [
    "len(trainset), len(validset)"
   ]
  },
  {
   "cell_type": "code",
   "execution_count": 8,
   "metadata": {},
   "outputs": [],
   "source": [
    "from iqra.utils import AttnLabelConverter\n",
    "converter = AttnLabelConverter(CHARACTER)\n",
    "num_class = len(converter.character)"
   ]
  },
  {
   "cell_type": "code",
   "execution_count": 9,
   "metadata": {},
   "outputs": [],
   "source": [
    "train_loader = DataLoader(trainset, batch_size=BATCH_SIZE, shuffle=True, num_workers=NUM_WORKERS)\n",
    "valid_loader = DataLoader(validset, batch_size=BATCH_SIZE, shuffle=True, num_workers=NUM_WORKERS)"
   ]
  },
  {
   "cell_type": "code",
   "execution_count": 10,
   "metadata": {},
   "outputs": [],
   "source": [
    "imgs, texts =  next(iter(train_loader))"
   ]
  },
  {
   "cell_type": "code",
   "execution_count": null,
   "metadata": {},
   "outputs": [],
   "source": []
  },
  {
   "cell_type": "code",
   "execution_count": 11,
   "metadata": {},
   "outputs": [],
   "source": [
    "converter = AttnLabelConverter(CHARACTER)\n",
    "NUM_CLASS = len(converter.character)"
   ]
  },
  {
   "cell_type": "code",
   "execution_count": 12,
   "metadata": {},
   "outputs": [],
   "source": [
    "model = crnn.OCRNet(num_class=NUM_CLASS, im_size=IMG_SIZE)\n",
    "criterion = nn.CrossEntropyLoss(ignore_index=0)\n",
    "optimizer = optim.Adam(model.parameters(), lr=LRATE, betas=(BETA1, BETA2))"
   ]
  },
  {
   "cell_type": "code",
   "execution_count": null,
   "metadata": {},
   "outputs": [],
   "source": []
  },
  {
   "cell_type": "code",
   "execution_count": 13,
   "metadata": {},
   "outputs": [],
   "source": [
    "checkpoint_path = 'checkpoints/'\n",
    "# DEFAULTS used by the Trainer\n",
    "checkpoint_callback = pl.callbacks.ModelCheckpoint(\n",
    "    filepath=checkpoint_path,\n",
    "    save_top_k=1,\n",
    "    verbose=True,\n",
    "    monitor='val_loss',\n",
    "    mode='min',\n",
    "    prefix='ocr_net_'\n",
    ")"
   ]
  },
  {
   "cell_type": "code",
   "execution_count": null,
   "metadata": {},
   "outputs": [
    {
     "name": "stderr",
     "output_type": "stream",
     "text": [
      "GPU available: True, used: True\n",
      "TPU available: False, using: 0 TPU cores\n",
      "LOCAL_RANK: 0 - CUDA_VISIBLE_DEVICES: [0,1]\n"
     ]
    }
   ],
   "source": [
    "tb_logger = pl_loggers.TensorBoardLogger('logs/ocr_net')\n",
    "task = OCRTaks(model, optimizer, criterion, converter)\n",
    "trainer = pl.Trainer(gpus=2, logger=tb_logger, checkpoint_callback=checkpoint_callback, distributed_backend='ddp')\n",
    "trainer.fit(task, train_loader, valid_loader)"
   ]
  },
  {
   "cell_type": "code",
   "execution_count": null,
   "metadata": {},
   "outputs": [],
   "source": [
    "# !nvidia-smi"
   ]
  },
  {
   "cell_type": "code",
   "execution_count": 15,
   "metadata": {},
   "outputs": [],
   "source": [
    "# !pip install pytorch-lightning==1.0"
   ]
  },
  {
   "cell_type": "code",
   "execution_count": null,
   "metadata": {},
   "outputs": [],
   "source": []
  }
 ],
 "metadata": {
  "kernelspec": {
   "display_name": "Python 3.6.8 64-bit ('dlearn': conda)",
   "language": "python",
   "name": "python36864bitdlearnconda8b52482a293448b0acf9689b7cde63c2"
  },
  "language_info": {
   "codemirror_mode": {
    "name": "ipython",
    "version": 3
   },
   "file_extension": ".py",
   "mimetype": "text/x-python",
   "name": "python",
   "nbconvert_exporter": "python",
   "pygments_lexer": "ipython3",
   "version": "3.6.8"
  }
 },
 "nbformat": 4,
 "nbformat_minor": 4
}
