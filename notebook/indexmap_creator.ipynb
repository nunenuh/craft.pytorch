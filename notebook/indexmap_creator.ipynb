{
 "cells": [
  {
   "cell_type": "code",
   "execution_count": 6,
   "metadata": {},
   "outputs": [
    {
     "name": "stdout",
     "output_type": "stream",
     "text": [
      "The autoreload extension is already loaded. To reload it, use:\n",
      "  %reload_ext autoreload\n"
     ]
    }
   ],
   "source": [
    "%load_ext autoreload\n",
    "%autoreload 2"
   ]
  },
  {
   "cell_type": "code",
   "execution_count": 7,
   "metadata": {},
   "outputs": [],
   "source": [
    "import os\n",
    "import string\n",
    "import numpy as np\n",
    "from pathlib import Path\n",
    "import matplotlib.pyplot as plt\n",
    "\n",
    "from typing import * \n",
    "\n",
    "\n",
    "import torch\n",
    "import torch.nn as nn\n",
    "import torch.optim as optim\n",
    "from torch.utils.data import Dataset, ConcatDataset, Subset, DataLoader\n",
    "\n",
    "import torchvision.transforms as VT\n",
    "\n",
    "\n",
    "# from craft.datasets import custom\n",
    "# from craft.models import crnn_v1\n",
    "\n",
    "# import craft.transforms as NT\n",
    "# from craft.data.dataset import LMDBDataset, BalanceDatasetConcatenator\n",
    "# from craft.utils import AttnLabelConverter"
   ]
  },
  {
   "cell_type": "code",
   "execution_count": 29,
   "metadata": {},
   "outputs": [],
   "source": [
    "path = '/workspace/serverfs/data/idcard/combined/tester3'\n",
    "from pathlib import Path\n",
    "\n",
    "images = list(Path(path).glob(\"*_image.jpg\"))\n",
    "masks = list(Path(path).glob(\"*_mask.jpg\"))\n",
    "jsons = list(Path(path).glob(\"*_json.json\"))\n",
    "\n",
    "images = sorted(images)\n",
    "masks = sorted(masks)\n",
    "jsons = sorted(jsons)\n",
    "\n",
    "assert len(images)==len(masks) and len(images)==len(jsons)"
   ]
  },
  {
   "cell_type": "code",
   "execution_count": 30,
   "metadata": {},
   "outputs": [],
   "source": [
    "import pandas as pd\n",
    "\n",
    "name_list, image_list, mask_list, json_list = [],[],[],[]\n",
    "for (img, msk, jsn) in zip(images, masks, jsons):\n",
    "    name = img.name.split(\"_\")[0]\n",
    "    name_list.append(name)\n",
    "    image_list.append(img.name)\n",
    "    mask_list.append(msk.name)\n",
    "    json_list.append(jsn.name)"
   ]
  },
  {
   "cell_type": "code",
   "execution_count": 31,
   "metadata": {},
   "outputs": [],
   "source": [
    "data = {\n",
    "    'name':name_list,\n",
    "    'image_file': image_list,\n",
    "    'mask_file': mask_list,\n",
    "    'json_file': json_list\n",
    "}\n",
    "df = pd.DataFrame(data)\n",
    "\n",
    "saved_path = '/workspace/serverfs/data/idcard/combined/tester3/indexmap.csv'\n",
    "df.to_csv(saved_path, index=False)\n",
    "    "
   ]
  },
  {
   "cell_type": "code",
   "execution_count": null,
   "metadata": {},
   "outputs": [],
   "source": []
  },
  {
   "cell_type": "code",
   "execution_count": null,
   "metadata": {},
   "outputs": [],
   "source": []
  }
 ],
 "metadata": {
  "kernelspec": {
   "display_name": "Python 3.6.8 64-bit ('dlearn': conda)",
   "language": "python",
   "name": "python36864bitdlearnconda8b52482a293448b0acf9689b7cde63c2"
  },
  "language_info": {
   "codemirror_mode": {
    "name": "ipython",
    "version": 3
   },
   "file_extension": ".py",
   "mimetype": "text/x-python",
   "name": "python",
   "nbconvert_exporter": "python",
   "pygments_lexer": "ipython3",
   "version": "3.6.8"
  }
 },
 "nbformat": 4,
 "nbformat_minor": 4
}
